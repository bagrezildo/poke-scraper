{
  "nbformat": 4,
  "nbformat_minor": 0,
  "metadata": {
    "colab": {
      "provenance": [],
      "authorship_tag": "ABX9TyOX1VjtDBby0Fh1OzxFmcPJ",
      "include_colab_link": true
    },
    "kernelspec": {
      "name": "python3",
      "display_name": "Python 3"
    },
    "language_info": {
      "name": "python"
    }
  },
  "cells": [
    {
      "cell_type": "markdown",
      "metadata": {
        "id": "view-in-github",
        "colab_type": "text"
      },
      "source": [
        "<a href=\"https://colab.research.google.com/github/bagrezildo/poke-scraper/blob/main/serebii_scraper.ipynb\" target=\"_parent\"><img src=\"https://colab.research.google.com/assets/colab-badge.svg\" alt=\"Open In Colab\"/></a>"
      ]
    },
    {
      "cell_type": "code",
      "execution_count": 1,
      "metadata": {
        "id": "i4k_uV1ZT8ZC"
      },
      "outputs": [],
      "source": [
        "import bs4\n",
        "import requests\n",
        "from io import BytesIO\n",
        "from PIL import Image\n",
        "import matplotlib.pyplot as plt\n",
        "from IPython.display import display"
      ]
    },
    {
      "cell_type": "code",
      "source": [
        "def abrir_imagem(url):\n",
        "    # Faz o download da imagem a partir do link\n",
        "    response = requests.get(url)\n",
        "\n",
        "    # Verifica se o download foi bem-sucedido\n",
        "    if response.status_code == 200:\n",
        "        # Abre a imagem utilizando a biblioteca Pillow\n",
        "        imagem = Image.open(BytesIO(response.content))\n",
        "        return imagem\n",
        "    else:\n",
        "        print(\"Falha ao baixar a imagem.\")\n",
        "        return None"
      ],
      "metadata": {
        "id": "bNskMBhVT-UH"
      },
      "execution_count": 2,
      "outputs": []
    },
    {
      "cell_type": "markdown",
      "source": [
        "#Definição de funções de busca"
      ],
      "metadata": {
        "id": "1rQUpEBfsT3W"
      }
    },
    {
      "cell_type": "code",
      "source": [
        "def find_other_names(soup): ##Extrai as variacoes idiomaticas do nome dos pokemons\n",
        "  tag = soup.find_all('td', class_='fooinfo')\n",
        "\n",
        "  names=tag[2].text.replace(\" \",\"\").split('\\n')\n",
        "\n",
        "  other_names = [[],[]]\n",
        "\n",
        "  for j in names[1:-1]:\n",
        "      other_names[0].append(j.split(\":\")[0])\n",
        "      other_names[1].append(j.split(\":\")[1])\n",
        "\n",
        "  other_names = dict(zip(other_names[0], other_names[1]))\n",
        "\n",
        "  return other_names\n",
        "\n",
        "def find_no(soup): ##Extrai o numero dos pokemons em cada uma das pokedex\n",
        "  tag = soup.find_all('td', class_='fooinfo')\n",
        "\n",
        "  num=tag[3].text.replace(\" \",\"\").split(\"\\n\")\n",
        "\n",
        "  no = [[],[]]\n",
        "\n",
        "  for i in num[:-1]:\n",
        "    no[0].append(i.split(\":\")[0])\n",
        "    no[1].append(i.split(\":\")[1])\n",
        "\n",
        "  no = dict(zip(no[0], no[1]))\n",
        "  return no\n",
        "\n",
        "def find_gender_ratio(soup): ##Extrai a taxa de encontro de cada genero\n",
        "  tag = soup.find_all('td', class_='fooinfo')\n",
        "  gender = tag[4].text\n",
        "  male_index=tag[4].text.find(\"Male\")\n",
        "  female_index=tag[4].text.find(\"Female\")\n",
        "\n",
        "  gender_ratio={\n",
        "      'male': gender[male_index:female_index],\n",
        "      'female': gender[female_index:]\n",
        "  }\n",
        "  return gender_ratio"
      ],
      "metadata": {
        "id": "Sj96q7_rUD_G"
      },
      "execution_count": 3,
      "outputs": []
    },
    {
      "cell_type": "code",
      "source": [
        "def find_sprites(soup, id):\n",
        "    tag = soup.find_all('td', class_='fooinfo')\n",
        "\n",
        "    icon = f'https://serebii.net/pokedex-xy/icon/{id}.png'\n",
        "    default = f'https://www.serebii.net/xy/pokemon/{id}.png'\n",
        "    shiny = f'https://www.serebii.net/Shiny/XY/{id}.png'\n",
        "    sprites = {\n",
        "        'icon': icon,\n",
        "        'default': default,\n",
        "        'shiny': shiny\n",
        "    }\n",
        "    return sprites"
      ],
      "metadata": {
        "id": "aPG5mgLcUTCG"
      },
      "execution_count": 4,
      "outputs": []
    },
    {
      "cell_type": "code",
      "source": [
        "def find_height(soup):\n",
        "  tag = soup.find_all('td', class_='fooinfo')\n",
        "\n",
        "  h = tag[6].text        ##recupera os valores de altura\n",
        "  h = h.replace(\"\\r\",\"\") ##remove caracteres\n",
        "  h = h.replace(\"\\t\",\"\") ##remove caracteres\n",
        "  h = h.split(\"\\n\")      ##separa a string\n",
        "\n",
        "  ####armazena em um dicionario ft: feet, m: metros\n",
        "  height = {\n",
        "      'ft': h[0],\n",
        "      'm': h[1]\n",
        "  }\n",
        "  return height\n",
        "\n",
        "def find_weight(soup):\n",
        "  tag = soup.find_all('td', class_='fooinfo')\n",
        "\n",
        "  w = tag[7].text         ##recupera os valores de altura\n",
        "  w = w.replace(\"\\r\",\"\")  ##remove caracteres\n",
        "  w = w.replace(\"\\t\",\"\")  ##remove caracteres\n",
        "  w = w.split(\"\\n\")       ##separa a string\n",
        "\n",
        "  ####armazena em um dicionario lbs: libras, m: kilos\n",
        "  weight = {\n",
        "      'lbs':w[0],\n",
        "      'kg':w[1]\n",
        "  }\n",
        "\n",
        "  return weight"
      ],
      "metadata": {
        "id": "bGOhe3WiUFoH"
      },
      "execution_count": 5,
      "outputs": []
    },
    {
      "cell_type": "code",
      "source": [
        "def find_egg_group(soup):\n",
        "    tag = soup.find_all('td', class_='fooinfo')\n",
        "    egg = tag[15].find_all('tr')\n",
        "    groups = []\n",
        "    for i in egg:\n",
        "        groups.append(i.find('option').text)\n",
        "    list_keys = []\n",
        "    for i in range(len(groups)):\n",
        "      list_keys.append(f\"egg_group_{i+1}\")\n",
        "    egg_group = dict(zip(list_keys, groups))\n",
        "    return egg_group"
      ],
      "metadata": {
        "id": "AwVrtPv9UQ2v"
      },
      "execution_count": 6,
      "outputs": []
    },
    {
      "cell_type": "code",
      "source": [
        "##LOCATIONS\n",
        "def find_locations(soup):\n",
        "  tag = soup.find_all('td', class_='fooinfo')\n",
        "  locations = {\n",
        "      'x': tag[17].text,\n",
        "      'y': tag[18].text,\n",
        "      'or': tag[19].text,\n",
        "      'as': tag[20].text\n",
        "  }\n",
        "  return locations\n",
        "\n",
        "###FLAVOR TEXT\n",
        "def find_flavor_text(soup):\n",
        "  tag = soup.find_all('td', class_='fooinfo')\n",
        "\n",
        "  flavor_text = {\n",
        "      'x': tag[22].text,\n",
        "      'y': tag[23].text,\n",
        "      'or': tag[24].text,\n",
        "      'as': tag[25].text\n",
        "  }\n",
        "  return flavor_text"
      ],
      "metadata": {
        "id": "r6hbvlL_UHmQ"
      },
      "execution_count": 7,
      "outputs": []
    },
    {
      "cell_type": "code",
      "source": [
        "def find_damage_taken(soup):\n",
        "    table = soup.find_all(class_='dextable')\n",
        "    types = ['normal', 'fire', 'water', 'eletric', 'grass',\n",
        "            'ice', 'fighting', 'poison', 'ground', 'flying',\n",
        "            'psychic', 'bug', 'rock', 'ghost', 'dragon', 'dark', 'steel', 'fairy']\n",
        "    #DAMAGE TAKEN PER TYPE\n",
        "    dmg = table[3].find_all('td', string=True, class_=('footype'))\n",
        "    damage = []\n",
        "    for i in dmg:\n",
        "        damage.append(i.text)\n",
        "    #print(damage)\n",
        "\n",
        "    damage_taken = dict(zip(types,damage))\n",
        "    return damage_taken"
      ],
      "metadata": {
        "id": "fhvmYmhuUKDP"
      },
      "execution_count": 8,
      "outputs": []
    },
    {
      "cell_type": "code",
      "source": [
        "## find moves. TEM QUE REFAZER, POKEMONS SEM HOENN LVL UP CRASHAM A FUNCAO\n",
        "def find_moves(soup):\n",
        "    table = soup.find_all(class_='dextable')\n",
        "\n",
        "    tr1 = table[8].find_all('tr')\n",
        "    descript=[]\n",
        "    moves_xy = {}\n",
        "    j=0\n",
        "\n",
        "    arg = 'colspan=\"8\"'\n",
        "    for i in tr1[2:]:\n",
        "        if arg in str(i):\n",
        "            descript.append(i.text.strip())\n",
        "            #print(i.text)\n",
        "\n",
        "        else:\n",
        "            #print(i)\n",
        "            attack = {\n",
        "            'lvl': i.find_all('td')[0].text,\n",
        "            'attack_name': i.find_all('td')[1].text,\n",
        "            'attack_type': str(i.find_all('img')[0]).split(\"/\",)[3].split(\".\")[0],\n",
        "            'category': str(i.find_all('img')[1]).split(\"/\",)[3].split(\".\")[0],\n",
        "            'att': i.find_all('td')[4].text,\n",
        "            'acc': i.find_all('td')[5].text,\n",
        "            'pp': i.find_all('td')[6].text,\n",
        "            'effect': i.find_all('td')[7].text,\n",
        "            }\n",
        "            moves_xy.update({j:attack})\n",
        "            j+=1\n",
        "\n",
        "\n",
        "    for chave, valor in zip(moves_xy.keys(), descript):\n",
        "        moves_xy[chave]['description'] = valor\n",
        "\n",
        "    tr2 = table[9].find_all('tr')\n",
        "    descript=[]\n",
        "    moves_oras = {}\n",
        "    j=0\n",
        "\n",
        "    for i in tr2[2:]:\n",
        "        if 'colspan=\"8\"' in str(i):\n",
        "            descript.append(i.text)\n",
        "            #print(i.text)\n",
        "\n",
        "        else:\n",
        "            #print(i)\n",
        "            attack = {\n",
        "                'lvl': i.find_all('td')[0].text,\n",
        "                'attack_name': i.find_all('td')[1].text,\n",
        "                'attack_type': str(i.find_all('img')[0]).split(\"/\",)[3].split(\".\")[0],\n",
        "                'category': str(i.find_all('img')[1]).split(\"/\",)[3].split(\".\")[0],\n",
        "                'att': i.find_all('td')[4].text,\n",
        "                'acc': i.find_all('td')[5].text,\n",
        "                'pp': i.find_all('td')[6].text,\n",
        "                'effect': i.find_all('td')[7].text,\n",
        "            }\n",
        "            moves_oras.update({j:attack})\n",
        "            j+=1\n",
        "\n",
        "\n",
        "    for chave, valor in zip(moves_oras.keys(), descript):\n",
        "        moves_oras[chave]['description'] = valor\n",
        "    #print(moves_oras)\n",
        "\n",
        "    tr3 = table[10].find_all('tr')\n",
        "\n",
        "    descript=[]\n",
        "    moves_tmhm = {}\n",
        "    j=0\n",
        "\n",
        "\n",
        "\n",
        "    for i in tr3[2:]:\n",
        "\n",
        "        if 'colspan=\"8\"' in str(i):\n",
        "            descript.append(i.text)\n",
        "            #print(i.text)\n",
        "\n",
        "        else:\n",
        "            #print(i)\n",
        "            attack = {\n",
        "            'tm/hm#': i.find_all('td')[0].text,\n",
        "            'attack_name': i.find_all('td')[1].text,\n",
        "            'attack_type': str(i.find_all('img')[0]).split(\"/\",)[3].split(\".\")[0],\n",
        "            'category': str(i.find_all('img')[1]).split(\"/\",)[3].split(\".\")[0],\n",
        "            'att': i.find_all('td')[4].text,\n",
        "            'acc': i.find_all('td')[5].text,\n",
        "            'pp': i.find_all('td')[6].text,\n",
        "            'effect': i.find_all('td')[7].text,\n",
        "            }\n",
        "            moves_tmhm.update({j:attack})\n",
        "            j+=1\n",
        "\n",
        "\n",
        "    for chave, valor in zip(moves_tmhm.keys(), descript):\n",
        "        moves_tmhm[chave]['description'] = valor\n",
        "    #print(moves_tmhm)\n",
        "    moves = {\n",
        "        'xy': moves_xy,\n",
        "        'oras': moves_oras,\n",
        "        'tmhm': moves_tmhm\n",
        "    }\n",
        "\n",
        "    return moves"
      ],
      "metadata": {
        "id": "87Nf7ICHULto"
      },
      "execution_count": 9,
      "outputs": []
    },
    {
      "cell_type": "code",
      "source": [
        "##DICIONARIO STATS\n",
        "def find_stats(soup):\n",
        "    for i in soup.find_all('td', class_=\"fooevo\"):\n",
        "      if 'colspan=\"8\"><b>Stats' in str(i) and 'Mega Evolution' not in str(i):\n",
        "        table = i.parent.parent\n",
        "    tab = table.find_all('tr')\n",
        "    list_keys = ['hp', 'attack', 'defense', 'sp_attack',\n",
        "                 'sp_defense', 'speed']\n",
        "\n",
        "    base_stats = []\n",
        "    base_stats_total = 0\n",
        "    for i in tab[2]:\n",
        "        if \"Total\" in str(i):\n",
        "            #print(str(i).strip('<td class=\"fooinfo\" colspan=\"2\" width=\"14%\"> Base Stats - Total: </td>'))\n",
        "            base_stats_total = str(i).strip('<td class=\"fooinfo\" colspan=\"2\" width=\"14%\"> Base Stats - Total: </td>')\n",
        "        elif '\\n' not in i.text:\n",
        "            base_stats.append(i.text)\n",
        "    #print(base_stats_total)\n",
        "    base_stats = dict(zip(list_keys, base_stats))\n",
        "    #base_stats\n",
        "\n",
        "    hin_lv50 = []\n",
        "    for i in tab[3].find_all(class_=\"foohin\"):\n",
        "        if \"center\" in str(i):\n",
        "            hin_lv50.append(i.text)\n",
        "\n",
        "    hin_lv100 = []\n",
        "    for i in tab[4].find_all(class_=\"foohin\"):\n",
        "        if \"center\" in str(i):\n",
        "            hin_lv100.append(i.text)\n",
        "\n",
        "    hindering_nature = {\n",
        "        'lv50':dict(zip(list_keys,hin_lv50)),\n",
        "        'lv100':dict(zip(list_keys,hin_lv100)),\n",
        "    }\n",
        "    #hindering_nature\n",
        "\n",
        "\n",
        "    neu_lv50 = []\n",
        "    for i in tab[5].find_all(class_=\"fooinfo\"):\n",
        "        if \"center\" in str(i):\n",
        "            neu_lv50.append(i.text)\n",
        "\n",
        "    neu_lv100 = []\n",
        "    for i in tab[6].find_all(class_=\"fooinfo\"):\n",
        "        if \"center\" in str(i):\n",
        "            neu_lv100.append(i.text)\n",
        "\n",
        "    neutral_nature = {\n",
        "        'lv50':dict(zip(list_keys,neu_lv50)),\n",
        "        'lv100':dict(zip(list_keys,neu_lv100)),\n",
        "    }\n",
        "    #neutral_nature\n",
        "\n",
        "\n",
        "    ben_lv50 = []\n",
        "    for i in tab[7].find_all(class_=\"fooben\"):\n",
        "        if \"center\" in str(i):\n",
        "            ben_lv50.append(i.text)\n",
        "\n",
        "    ben_lv100 = []\n",
        "    for i in tab[8].find_all(class_=\"fooben\"):\n",
        "        if \"center\" in str(i):\n",
        "            ben_lv100.append(i.text)\n",
        "\n",
        "    beneficial_nature = {\n",
        "        'lv50':dict(zip(list_keys,ben_lv50)),\n",
        "        'lv100':dict(zip(list_keys,ben_lv100)),\n",
        "    }\n",
        "    #beneficial_nature\n",
        "\n",
        "    stats={\n",
        "        'base_stats_total': base_stats_total,\n",
        "        'base_stats': base_stats,\n",
        "        'max_stats':{\n",
        "            'hindering_nature': hindering_nature,\n",
        "            'neutral_nature': neutral_nature,\n",
        "            'beneficial_nature': beneficial_nature\n",
        "        }\n",
        "    }\n",
        "    return stats"
      ],
      "metadata": {
        "id": "7jsPSYIRUNba"
      },
      "execution_count": 10,
      "outputs": []
    },
    {
      "cell_type": "code",
      "source": [
        "def find_pokemon(soup, id):\n",
        "\n",
        "    tag = soup.find_all('td', class_='fooinfo')\n",
        "\n",
        "    name = tag[1].text\n",
        "    sprites = find_sprites(soup, id)\n",
        "    other_names = find_other_names(soup)\n",
        "    no = find_no(soup)\n",
        "    gender_ratio = find_gender_ratio(soup)\n",
        "    classification = tag[5].text\n",
        "    height = find_height(soup)\n",
        "    weight = find_weight(soup)\n",
        "    capture_rate = tag[8].text\n",
        "    egg_steps = tag[9].text\n",
        "    abilities = tag[10].text.split('\\n')\n",
        "    experience_growth = tag[11].text\n",
        "    base_hapiness = tag[12].text\n",
        "    ev_earned = tag[13].text\n",
        "    sky_battle = tag[14].text.strip('\\n\\t\\r')\n",
        "    egg_group = find_egg_group(soup)\n",
        "    locations = find_locations(soup)\n",
        "    flavor_text = find_flavor_text(soup)\n",
        "    damage_taken = find_damage_taken(soup)\n",
        "    #moves = find_moves(soup)\n",
        "    stats = find_stats(soup)\n",
        "\n",
        "\n",
        "    pokemon = {\n",
        "        'id': id,\n",
        "        'name': name,\n",
        "        'sprite': sprites,\n",
        "        'other_names': other_names,\n",
        "        'no': no,\n",
        "        'gender_ratio': gender_ratio,\n",
        "        'classification': classification,\n",
        "        'height': height,\n",
        "        'weight': weight,\n",
        "        'capture_rate': capture_rate,\n",
        "        'egg_steps': egg_steps,\n",
        "        'abilities': abilities,\n",
        "        'experience_growth': experience_growth,\n",
        "        'base_hapiness': base_hapiness,\n",
        "        'ev_earned': ev_earned,\n",
        "        'sky_battle': sky_battle,\n",
        "        'egg_group': egg_group,\n",
        "        'locations': locations,\n",
        "        'flavor_text': flavor_text,\n",
        "        'damage_taken': damage_taken,\n",
        "        #'moves': moves,\n",
        "        'stats': stats\n",
        "    }\n",
        "    return pokemon"
      ],
      "metadata": {
        "id": "4-62JLLsUV7J"
      },
      "execution_count": 11,
      "outputs": []
    },
    {
      "cell_type": "markdown",
      "source": [
        "#Definição de funções de imprimir"
      ],
      "metadata": {
        "id": "Xy8iBhHOsdSQ"
      }
    },
    {
      "cell_type": "code",
      "source": [
        "def print_classification(pokemon):\n",
        "  classification = f\"{'Classification':^15} | {pokemon['classification']:^{len(pokemon['classification'])}}\"\n",
        "  print(f\"{'_'*len(classification)} \")\n",
        "  print(classification)\n",
        "  print(f\"{'_'*len(classification)} \")"
      ],
      "metadata": {
        "id": "vUZx6sVMstZ0"
      },
      "execution_count": 12,
      "outputs": []
    },
    {
      "cell_type": "code",
      "source": [
        "def imprime_pokemon(pokemon):\n",
        "  display(abrir_imagem(pokemon['sprite']['icon']))\n",
        "\n",
        "  mon = f\"#{pokemon['id']:^4} | {pokemon['name']:^{len(pokemon['name'])}}\"\n",
        "  print(f\"{'_'*len(mon)} \")\n",
        "  print(mon)\n",
        "  print(f\"{'_'*len(mon)} \")\n",
        "\n",
        "\n",
        "  display(abrir_imagem(pokemon['sprite']['default']))\n",
        "\n",
        "  print_no_dex(pokemon)\n",
        "\n",
        "  print_classification(pokemon)\n",
        "\n",
        "  print_abilities(pokemon)\n",
        "\n",
        "  print_egg_groups(pokemon)\n",
        "  print_locations(pokemon)\n",
        "  print_flavor_text(pokemon)\n",
        "  print_damage_taken(pokemon)\n",
        "  print_stats(pokemon)\n",
        "  print_moves(pokemon)"
      ],
      "metadata": {
        "id": "dz1F0S9IUBqf"
      },
      "execution_count": 13,
      "outputs": []
    },
    {
      "cell_type": "code",
      "source": [
        "def print_moves(pokemon):\n",
        "  moves = pokemon['moves']\n",
        "  #att = list(moves['xy'][0].values())\n",
        "  #Level\tAttack Name\tType\tCat.\tAtt.\tAcc.\tPP\tEffect %\n",
        "\n",
        "  for dex in moves:\n",
        "    print(f\"{'_'*103} \")\n",
        "    print(f\"{dex:^90}\")\n",
        "    print(f\"{'_'*103} \")\n",
        "    for move in list(moves[dex].values()):\n",
        "      ataque = list(move.values())\n",
        "      print(f\"{ataque[0]:^5} | {ataque[1]:^20} | {ataque[2]:^9} | {ataque[3]:^9} | {ataque[4]:^10} | {ataque[5]:^11} | {ataque[6]:^9} | {ataque[7]:^9}\")\n",
        "      print(f\"{'_'*5} | {'_'*20} | {'_'*9} | {'_'*9} | {'_'*10} | {'_'*11} | {'_'*9} | {'_'*9} \")\n",
        "      print(f\"{' ':^28} | {ataque[8]:^60}\")\n",
        "      print(f\"{'_'*28} | {'_'*72} \")\n"
      ],
      "metadata": {
        "id": "nbx5UGkMtUc2"
      },
      "execution_count": 14,
      "outputs": []
    },
    {
      "cell_type": "code",
      "source": [
        "def print_no_dex(pokemon):\n",
        "  types = list(pokemon['no'].keys())\n",
        "  values = list(pokemon['no'].values())\n",
        "  print(f\"{'_'*35} \")\n",
        "  print(f\"{'Dex':^35}\")\n",
        "  print(f\"{'_'*35} \")\n",
        "\n",
        "  for i in range(len(types)):\n",
        "    print(f\"{types[i]:^14} | {values[i]:^18}\")\n",
        "    print(f\"{'_'*14} | {'_'*18} \")\n"
      ],
      "metadata": {
        "id": "1WRxexpmguPw"
      },
      "execution_count": 15,
      "outputs": []
    },
    {
      "cell_type": "code",
      "source": [
        "def print_egg_groups(pokemon):\n",
        "  values = list(pokemon['egg_group'].values())\n",
        "\n",
        "  texto = f\"{'Egg Groups':^12} |\"\n",
        "  texto2 = ' '.join([f\"{i:^12} \" for i in values])\n",
        "  texto = texto + texto2\n",
        "\n",
        "  print(f\"{'_'*len(texto)} \")\n",
        "  print(texto)\n",
        "  print(f\"{'_'*len(texto)} \")\n"
      ],
      "metadata": {
        "id": "d-DIZ9YlaQeW"
      },
      "execution_count": 16,
      "outputs": []
    },
    {
      "cell_type": "code",
      "source": [
        "def print_locations(pokemon):\n",
        "  types = ['X', 'Y', 'Omega Ruby', 'Alpha Saphire']\n",
        "  values = list(pokemon['locations'].values())\n",
        "\n",
        "  print(f\"{'_'*35} \")\n",
        "  print(f\"{'Locations':^35}\")\n",
        "  print(f\"{'_'*35} \")\n",
        "  print(f\"{types[0]:^14} | {values[0]:^18}\")\n",
        "  print(f\"{'_'*14} | {'_'*18} \")\n",
        "  print(f\"{types[1]:^14} | {values[1]:^18} \")\n",
        "  print(f\"{'_'*14} | {'_'*18} \")\n",
        "  print(f\"{types[2]:^14} | {values[2]:^18}\")\n",
        "  print(f\"{'_'*14} | {'_'*18} \")\n",
        "  print(f\"{types[3]:^14} | {values[3]:^18}\")\n",
        "  print(f\"{'_'*14} | {'_'*18} \")\n"
      ],
      "metadata": {
        "id": "1_OwkLD1DJXU"
      },
      "execution_count": 17,
      "outputs": []
    },
    {
      "cell_type": "code",
      "source": [
        "def print_abilities(pokemon):\n",
        "  types = ['X', 'Y', 'Omega Ruby', 'Alpha Saphire']\n",
        "  values = pokemon['abilities'][1:]\n",
        "\n",
        "  print(f\"{'_'*200} \")\n",
        "  print(f\"{'Abilities':^14}\")\n",
        "  print(f\"{'_'*200} \")\n",
        "  for i in range(len(values)):\n",
        "    print(f\"{values[i]:<200}\")\n",
        "    print(f\"{'_'*200} \")\n",
        "\n"
      ],
      "metadata": {
        "id": "FL3e-Rt7k_px"
      },
      "execution_count": 18,
      "outputs": []
    },
    {
      "cell_type": "code",
      "source": [
        "def print_flavor_text(pokemon):\n",
        "  types = ['X', 'Y', 'Omega Ruby', 'Alpha Saphire']\n",
        "  values = list(pokemon['flavor_text'].values())\n",
        "\n",
        "  print(f\"{'_'*200} \")\n",
        "  print(f\"{'Flavor Text':^14}\")\n",
        "  print(f\"{'_'*200} \")\n",
        "  for i in range(len(types)):\n",
        "    print(f\"{types[i]:^14} | {values[i]:<180}\")\n",
        "    print(f\"{'_'*14} | {'_'*183} \")\n",
        "\n"
      ],
      "metadata": {
        "id": "XVgrjL0le6Ou"
      },
      "execution_count": 19,
      "outputs": []
    },
    {
      "cell_type": "code",
      "source": [
        "def print_damage_taken(pokemon):\n",
        "  types = list(pokemon['damage_taken'].keys())\n",
        "  values = list(pokemon['damage_taken'].values())\n",
        "\n",
        "  print(f\"{'_'*72} \")\n",
        "  print(f\"{'Damage Taken':^72}\")\n",
        "  print(f\"{'_'*72} \")\n",
        "  print(f\"{types[0]:^9} | {values[0]:^9} | {types[6]:^9} | {values[6]:^10} | {types[12]:^11} | {values[12]:^9}\")\n",
        "  print(f\"{'_'*9} | {'_'*9} | {'_'*9} | {'_'*10} | {'_'*11} | {'_'*9} \")\n",
        "  print(f\"{types[1]:^9} | {values[1]:^9} | {types[7]:^9} | {values[7]:^10} | {types[13]:^11} | {values[13]:^9}\")\n",
        "  print(f\"{'_'*9} | {'_'*9} | {'_'*9} | {'_'*10} | {'_'*11} | {'_'*9} \")\n",
        "  print(f\"{types[2]:^9} | {values[2]:^9} | {types[8]:^9} | {values[8]:^10} | {types[14]:^11} | {values[14]:^9}\")\n",
        "  print(f\"{'_'*9} | {'_'*9} | {'_'*9} | {'_'*10} | {'_'*11} | {'_'*9} \")\n",
        "  print(f\"{types[3]:^9} | {values[3]:^9} | {types[9]:^9} | {values[9]:^10} | {types[15]:^11} | {values[15]:^9}\")\n",
        "  print(f\"{'_'*9} | {'_'*9} | {'_'*9} | {'_'*10} | {'_'*11} | {'_'*9} \")\n",
        "  print(f\"{types[4]:^9} | {values[4]:^9} | {types[10]:^9} | {values[10]:^10} | {types[16]:^11} | {values[16]:^9}\")\n",
        "  print(f\"{'_'*9} | {'_'*9} | {'_'*9} | {'_'*10} | {'_'*11} | {'_'*9} \")\n",
        "  print(f\"{types[5]:^9} | {values[5]:^9} | {types[11]:^9} | {values[11]:^10} | {types[17]:^11} | {values[17]:^9}\")\n",
        "  print(f\"{'_'*9} | {'_'*9} | {'_'*9} | {'_'*10} | {'_'*11} | {'_'*9} \")\n"
      ],
      "metadata": {
        "id": "alU4h87TDlyX"
      },
      "execution_count": 20,
      "outputs": []
    },
    {
      "cell_type": "code",
      "source": [
        "def print_stats(pokemon):\n",
        "\n",
        "  hin_lv50 = list(pokemon['stats']['max_stats']['hindering_nature']['lv50'].values())\n",
        "\n",
        "  hin_lv100 = list(pokemon['stats']['max_stats']['hindering_nature']['lv100'].values())\n",
        "\n",
        "  ###NEUTRAL\n",
        "  neu_lv50 = list(pokemon['stats']['max_stats']['neutral_nature']['lv50'].values())\n",
        "\n",
        "  neu_lv100 = list(pokemon['stats']['max_stats']['neutral_nature']['lv100'].values())\n",
        "\n",
        "  ###BENEFICIAL\n",
        "  ben_lv50 = list(pokemon['stats']['max_stats']['beneficial_nature']['lv50'].values())\n",
        "\n",
        "\n",
        "  ben_lv100 = list(pokemon['stats']['max_stats']['beneficial_nature']['lv100'].values())\n",
        "\n",
        "  total ='Base Stats - Total: '+pokemon['stats']['base_stats_total']\n",
        "\n",
        "  base = list(pokemon['stats']['base_stats'].values())\n",
        "\n",
        "\n",
        "  print(f\"{'_'*100} \")\n",
        "  print(f\"{'Stats':^90}\")\n",
        "  print(f\"{'_'*100} \")\n",
        "  print(f\"{' ':^25} | {'HP':^9} | {'Attack':^9} | {'Defense':^9} | {'Sp. Attack':^10} | {'Sp. Defense':^11} | {'Speed':^9}\")\n",
        "  print(f\"{'_'*25} | {'_'*9} | {'_'*9} | {'_'*9} | {'_'*10} | {'_'*11} | {'_'*9} \")\n",
        "  print(f\"{total:^25} | {base[0]:^9} | {base[1]:^9} | {base[2]:^9} | {base[3]:^10} | {base[4]:^11} | {base[5]:^9}\")\n",
        "  print(f\"{'_'*25} | {'_'*9} | {'_'*9} | {'_'*9} | {'_'*10} | {'_'*11} | {'_'*9} \")\n",
        "  print(f\"{'Max Stats':^16} | {'Lv.50':^6} | {hin_lv50[0]:^9} | {hin_lv50[1]:^9} | {hin_lv50[2]:^9} | {hin_lv50[3]:^10} | {hin_lv50[4]:^11} | {hin_lv50[5]:^9}\")\n",
        "  print(f\"{' '*16} | {'_'*6} | {'_'*9} | {'_'*9} | {'_'*9} | {'_'*10} | {'_'*11} | {'_'*9} \")\n",
        "  print(f\"{'Hindering Nature':^16} | {'Lv.100':^6} | {hin_lv100[0]:^9} | {hin_lv100[1]:^9} | {hin_lv100[2]:^9} | {hin_lv100[3]:^10} | {hin_lv100[4]:^11} | {hin_lv100[5]:^9}\")\n",
        "  print(f\"{'_'*25} | {'_'*9} | {'_'*9} | {'_'*9} | {'_'*10} | {'_'*11} | {'_'*9} \")\n",
        "  print(f\"{'Max Stats':^16} | {'Lv.50':^6} | {neu_lv50[0]:^9} | {neu_lv50[1]:^9} | {neu_lv50[2]:^9} | {neu_lv50[3]:^10} | {neu_lv50[4]:^11} | {neu_lv50[5]:^9}\")\n",
        "  print(f\"{' '*16} | {'_'*6} | {'_'*9} | {'_'*9} | {'_'*9} | {'_'*10} | {'_'*11} | {'_'*9} \")\n",
        "  print(f\"{'Neutral Nature':^16} | {'Lv.100':^6} | {neu_lv100[0]:^9} | {neu_lv100[1]:^9} | {neu_lv100[2]:^9} | {neu_lv100[3]:^10} | {neu_lv100[4]:^11} | {neu_lv100[5]:^9}\")\n",
        "  print(f\"{'_'*25} | {'_'*9} | {'_'*9} | {'_'*9} | {'_'*10} | {'_'*11} | {'_'*9} \")\n",
        "  print(f\"{'Max Stats':^16} | {'Lv.50':^6} | {ben_lv50[0]:^9} | {ben_lv50[1]:^9} | {ben_lv50[2]:^9} | {ben_lv50[3]:^10} | {ben_lv50[4]:^11} | {ben_lv50[5]:^9}\")\n",
        "  print(f\"{' '*16} | {'_'*6} | {'_'*9} | {'_'*9} | {'_'*9} | {'_'*10} | {'_'*11} | {'_'*9} \")\n",
        "  print(f\"{'Benefical Nature':^16} | {'Lv.100':^6} | {ben_lv100[0]:^9} | {ben_lv100[1]:^9} | {ben_lv100[2]:^9} | {ben_lv100[3]:^10} | {ben_lv100[4]:^11} | {ben_lv100[5]:^9}\")\n",
        "\n",
        "\n"
      ],
      "metadata": {
        "id": "zo-9n2kAD3aj"
      },
      "execution_count": 21,
      "outputs": []
    },
    {
      "cell_type": "markdown",
      "source": [
        "#Executando"
      ],
      "metadata": {
        "id": "_V2mYso9bb6s"
      }
    },
    {
      "cell_type": "code",
      "source": [
        "first = 100\n",
        "last = 105\n",
        "URLS = ['https://serebii.net/pokedex-xy/{}.shtml'.format(str(x).zfill(3))\n",
        "                for x in range(first, last+1)]\n",
        "\n",
        "pokedex_xy = {}\n",
        "for url in URLS:\n",
        "\n",
        "    id = url.strip('https://serebii.net/pokedex-xy/')\n",
        "    id = id.strip('.shtml')\n",
        "\n",
        "    print(f'To pegando o {id} em {url}')\n",
        "    data = requests.get(url)\n",
        "\n",
        "    soup = bs4.BeautifulSoup(data.text, 'html.parser')\n",
        "    tag = soup.find_all('td', class_='fooinfo')\n",
        "\n",
        "    moves(soup)\n",
        "\n",
        "    pokemon = find_pokemon(soup, id)\n",
        "\n",
        "    pokedex_xy.update({id:pokemon})\n",
        "##o erro das moves é que nem todos os pokemons tem uma tabela de lvl de hoenn, tem que fazer casos em que nao tem."
      ],
      "metadata": {
        "colab": {
          "base_uri": "https://localhost:8080/"
        },
        "id": "oZPTzLquUXsR",
        "outputId": "466a9248-8964-4774-b3a9-cbc94d6cff51"
      },
      "execution_count": 33,
      "outputs": [
        {
          "output_type": "stream",
          "name": "stdout",
          "text": [
            "To pegando o 100 em https://serebii.net/pokedex-xy/100.shtml\n",
            "{'lvl': '—', 'attack_name': 'Charge', 'attack_type': 'electric', 'category': 'other', 'att': '--', 'acc': '--', 'pp': '20', 'effect': '--'}\n",
            "{'lvl': '5', 'attack_name': 'Tackle', 'attack_type': 'normal', 'category': 'physical', 'att': '50', 'acc': '100', 'pp': '35', 'effect': '--'}\n",
            "{'lvl': '8', 'attack_name': 'Sonic Boom', 'attack_type': 'normal', 'category': 'special', 'att': '??', 'acc': '90', 'pp': '20', 'effect': '--'}\n",
            "{'lvl': '10', 'attack_name': 'Eerie Impulse', 'attack_type': 'electric', 'category': 'other', 'att': '--', 'acc': '100', 'pp': '15', 'effect': '--'}\n",
            "{'lvl': '12', 'attack_name': 'Spark', 'attack_type': 'electric', 'category': 'physical', 'att': '65', 'acc': '100', 'pp': '20', 'effect': '30'}\n",
            "{'lvl': '15', 'attack_name': 'Rollout', 'attack_type': 'rock', 'category': 'physical', 'att': '30', 'acc': '90', 'pp': '20', 'effect': '--'}\n",
            "{'lvl': '19', 'attack_name': 'Screech', 'attack_type': 'normal', 'category': 'other', 'att': '--', 'acc': '85', 'pp': '40', 'effect': '--'}\n",
            "{'lvl': '22', 'attack_name': 'Charge Beam', 'attack_type': 'electric', 'category': 'special', 'att': '50', 'acc': '90', 'pp': '10', 'effect': '70'}\n",
            "{'lvl': '26', 'attack_name': 'Light Screen', 'attack_type': 'psychic', 'category': 'other', 'att': '--', 'acc': '--', 'pp': '30', 'effect': '--'}\n",
            "{'lvl': '29', 'attack_name': 'Electro Ball', 'attack_type': 'electric', 'category': 'special', 'att': '??', 'acc': '100', 'pp': '10', 'effect': '--'}\n",
            "{'lvl': '33', 'attack_name': 'Self-Destruct', 'attack_type': 'normal', 'category': 'physical', 'att': '200', 'acc': '100', 'pp': '5', 'effect': '--'}\n",
            "{'lvl': '36', 'attack_name': 'Swift', 'attack_type': 'normal', 'category': 'special', 'att': '60', 'acc': '--', 'pp': '20', 'effect': '--'}\n",
            "{'lvl': '40', 'attack_name': 'Magnet Rise', 'attack_type': 'electric', 'category': 'other', 'att': '--', 'acc': '--', 'pp': '10', 'effect': '--'}\n",
            "{'lvl': '43', 'attack_name': 'Gyro Ball', 'attack_type': 'steel', 'category': 'physical', 'att': '??', 'acc': '100', 'pp': '5', 'effect': '--'}\n",
            "{'lvl': '47', 'attack_name': 'Explosion', 'attack_type': 'normal', 'category': 'physical', 'att': '250', 'acc': '100', 'pp': '5', 'effect': '--'}\n",
            "{'lvl': '50', 'attack_name': 'Mirror Coat', 'attack_type': 'psychic', 'category': 'special', 'att': '??', 'acc': '100', 'pp': '20', 'effect': '--'}\n",
            "To pegando o 101 em https://serebii.net/pokedex-xy/101.shtml\n",
            "{'lvl': '—', 'attack_name': 'Magnetic Flux', 'attack_type': 'electric', 'category': 'other', 'att': '--', 'acc': '--', 'pp': '20', 'effect': '--'}\n",
            "{'lvl': '—', 'attack_name': 'Charge', 'attack_type': 'electric', 'category': 'other', 'att': '--', 'acc': '--', 'pp': '20', 'effect': '--'}\n",
            "{'lvl': '—', 'attack_name': 'Tackle', 'attack_type': 'normal', 'category': 'physical', 'att': '50', 'acc': '100', 'pp': '35', 'effect': '--'}\n",
            "{'lvl': '—', 'attack_name': 'Sonic Boom', 'attack_type': 'normal', 'category': 'special', 'att': '??', 'acc': '90', 'pp': '20', 'effect': '--'}\n",
            "{'lvl': '—', 'attack_name': 'Spark', 'attack_type': 'electric', 'category': 'physical', 'att': '65', 'acc': '100', 'pp': '20', 'effect': '30'}\n",
            "{'lvl': '5', 'attack_name': 'Tackle', 'attack_type': 'normal', 'category': 'physical', 'att': '50', 'acc': '100', 'pp': '35', 'effect': '--'}\n",
            "{'lvl': '8', 'attack_name': 'Eerie Impulse', 'attack_type': 'electric', 'category': 'other', 'att': '--', 'acc': '100', 'pp': '15', 'effect': '--'}\n",
            "{'lvl': '12', 'attack_name': 'Spark', 'attack_type': 'electric', 'category': 'physical', 'att': '65', 'acc': '100', 'pp': '20', 'effect': '30'}\n",
            "{'lvl': '15', 'attack_name': 'Rollout', 'attack_type': 'rock', 'category': 'physical', 'att': '30', 'acc': '90', 'pp': '20', 'effect': '--'}\n",
            "{'lvl': '19', 'attack_name': 'Screech', 'attack_type': 'normal', 'category': 'other', 'att': '--', 'acc': '85', 'pp': '40', 'effect': '--'}\n",
            "{'lvl': '22', 'attack_name': 'Charge Beam', 'attack_type': 'electric', 'category': 'special', 'att': '50', 'acc': '90', 'pp': '10', 'effect': '70'}\n",
            "{'lvl': '26', 'attack_name': 'Light Screen', 'attack_type': 'psychic', 'category': 'other', 'att': '--', 'acc': '--', 'pp': '30', 'effect': '--'}\n",
            "{'lvl': '29', 'attack_name': 'Electro Ball', 'attack_type': 'electric', 'category': 'special', 'att': '??', 'acc': '100', 'pp': '10', 'effect': '--'}\n",
            "{'lvl': '35', 'attack_name': 'Self-Destruct', 'attack_type': 'normal', 'category': 'physical', 'att': '200', 'acc': '100', 'pp': '5', 'effect': '--'}\n",
            "{'lvl': '40', 'attack_name': 'Swift', 'attack_type': 'normal', 'category': 'special', 'att': '60', 'acc': '--', 'pp': '20', 'effect': '--'}\n",
            "{'lvl': '46', 'attack_name': 'Magnet Rise', 'attack_type': 'electric', 'category': 'other', 'att': '--', 'acc': '--', 'pp': '10', 'effect': '--'}\n",
            "{'lvl': '51', 'attack_name': 'Gyro Ball', 'attack_type': 'steel', 'category': 'physical', 'att': '??', 'acc': '100', 'pp': '5', 'effect': '--'}\n",
            "{'lvl': '57', 'attack_name': 'Explosion', 'attack_type': 'normal', 'category': 'physical', 'att': '250', 'acc': '100', 'pp': '5', 'effect': '--'}\n",
            "{'lvl': '62', 'attack_name': 'Mirror Coat', 'attack_type': 'psychic', 'category': 'special', 'att': '??', 'acc': '100', 'pp': '20', 'effect': '--'}\n",
            "To pegando o 102 em https://serebii.net/pokedex-xy/102.shtml\n",
            "{'lvl': '—', 'attack_name': 'Barrage', 'attack_type': 'normal', 'category': 'physical', 'att': '15', 'acc': '85', 'pp': '20', 'effect': '--'}\n",
            "{'lvl': '—', 'attack_name': 'Uproar', 'attack_type': 'normal', 'category': 'special', 'att': '90', 'acc': '100', 'pp': '10', 'effect': '--'}\n",
            "{'lvl': '—', 'attack_name': 'Hypnosis', 'attack_type': 'psychic', 'category': 'other', 'att': '--', 'acc': '60', 'pp': '20', 'effect': '--'}\n",
            "{'lvl': '7', 'attack_name': 'Reflect', 'attack_type': 'psychic', 'category': 'other', 'att': '--', 'acc': '--', 'pp': '20', 'effect': '--'}\n",
            "{'lvl': '11', 'attack_name': 'Leech Seed', 'attack_type': 'grass', 'category': 'other', 'att': '--', 'acc': '90', 'pp': '10', 'effect': '--'}\n",
            "{'lvl': '17', 'attack_name': 'Bullet Seed', 'attack_type': 'grass', 'category': 'physical', 'att': '25', 'acc': '100', 'pp': '30', 'effect': '--'}\n",
            "{'lvl': '19', 'attack_name': 'Stun Spore', 'attack_type': 'grass', 'category': 'other', 'att': '--', 'acc': '75', 'pp': '30', 'effect': '--'}\n",
            "{'lvl': '21', 'attack_name': 'Poison Powder', 'attack_type': 'poison', 'category': 'other', 'att': '--', 'acc': '75', 'pp': '35', 'effect': '--'}\n",
            "{'lvl': '23', 'attack_name': 'Sleep Powder', 'attack_type': 'grass', 'category': 'other', 'att': '--', 'acc': '75', 'pp': '15', 'effect': '--'}\n",
            "{'lvl': '27', 'attack_name': 'Confusion', 'attack_type': 'psychic', 'category': 'special', 'att': '50', 'acc': '100', 'pp': '25', 'effect': '10'}\n",
            "{'lvl': '33', 'attack_name': 'Worry Seed', 'attack_type': 'grass', 'category': 'other', 'att': '--', 'acc': '100', 'pp': '10', 'effect': '--'}\n",
            "{'lvl': '37', 'attack_name': 'Natural Gift', 'attack_type': 'normal', 'category': 'physical', 'att': '??', 'acc': '100', 'pp': '15', 'effect': '--'}\n",
            "{'lvl': '43', 'attack_name': 'Solar Beam', 'attack_type': 'grass', 'category': 'special', 'att': '120', 'acc': '100', 'pp': '10', 'effect': '--'}\n",
            "{'lvl': '47', 'attack_name': 'Extrasensory', 'attack_type': 'psychic', 'category': 'special', 'att': '80', 'acc': '100', 'pp': '20', 'effect': '10'}\n",
            "{'lvl': '50', 'attack_name': 'Bestow', 'attack_type': 'normal', 'category': 'other', 'att': '--', 'acc': '--', 'pp': '15', 'effect': '--'}\n",
            "To pegando o 103 em https://serebii.net/pokedex-xy/103.shtml\n",
            "{'lvl': '—', 'attack_name': 'Seed Bomb', 'attack_type': 'grass', 'category': 'physical', 'att': '80', 'acc': '100', 'pp': '15', 'effect': '--'}\n",
            "{'lvl': '—', 'attack_name': 'Barrage', 'attack_type': 'normal', 'category': 'physical', 'att': '15', 'acc': '85', 'pp': '20', 'effect': '--'}\n",
            "{'lvl': '—', 'attack_name': 'Hypnosis', 'attack_type': 'psychic', 'category': 'other', 'att': '--', 'acc': '60', 'pp': '20', 'effect': '--'}\n",
            "{'lvl': '—', 'attack_name': 'Confusion', 'attack_type': 'psychic', 'category': 'special', 'att': '50', 'acc': '100', 'pp': '25', 'effect': '10'}\n",
            "{'lvl': '—', 'attack_name': 'Stomp', 'attack_type': 'normal', 'category': 'physical', 'att': '65', 'acc': '100', 'pp': '20', 'effect': '30'}\n",
            "{'lvl': '17', 'attack_name': 'Psyshock', 'attack_type': 'psychic', 'category': 'special', 'att': '80', 'acc': '100', 'pp': '10', 'effect': '--'}\n",
            "{'lvl': '27', 'attack_name': 'Egg Bomb', 'attack_type': 'normal', 'category': 'physical', 'att': '100', 'acc': '75', 'pp': '10', 'effect': '--'}\n",
            "{'lvl': '37', 'attack_name': 'Wood Hammer', 'attack_type': 'grass', 'category': 'physical', 'att': '120', 'acc': '100', 'pp': '15', 'effect': '--'}\n",
            "{'lvl': '47', 'attack_name': 'Leaf Storm', 'attack_type': 'grass', 'category': 'special', 'att': '130', 'acc': '90', 'pp': '5', 'effect': '100'}\n",
            "To pegando o 104 em https://serebii.net/pokedex-xy/104.shtml\n",
            "{'lvl': '—', 'attack_name': 'Growl', 'attack_type': 'normal', 'category': 'other', 'att': '--', 'acc': '100', 'pp': '40', 'effect': '--'}\n",
            "{'lvl': '3', 'attack_name': 'Tail Whip', 'attack_type': 'normal', 'category': 'other', 'att': '--', 'acc': '100', 'pp': '30', 'effect': '--'}\n",
            "{'lvl': '7', 'attack_name': 'Bone Club', 'attack_type': 'ground', 'category': 'physical', 'att': '65', 'acc': '85', 'pp': '20', 'effect': '10'}\n",
            "{'lvl': '11', 'attack_name': 'Headbutt', 'attack_type': 'normal', 'category': 'physical', 'att': '70', 'acc': '100', 'pp': '15', 'effect': '30'}\n",
            "{'lvl': '13', 'attack_name': 'Leer', 'attack_type': 'normal', 'category': 'other', 'att': '--', 'acc': '100', 'pp': '30', 'effect': '100'}\n",
            "{'lvl': '17', 'attack_name': 'Focus Energy', 'attack_type': 'normal', 'category': 'other', 'att': '--', 'acc': '--', 'pp': '30', 'effect': '--'}\n",
            "{'lvl': '21', 'attack_name': 'Bonemerang', 'attack_type': 'ground', 'category': 'physical', 'att': '50', 'acc': '90', 'pp': '10', 'effect': '--'}\n",
            "{'lvl': '23', 'attack_name': 'Rage', 'attack_type': 'normal', 'category': 'physical', 'att': '20', 'acc': '100', 'pp': '20', 'effect': '--'}\n",
            "{'lvl': '27', 'attack_name': 'False Swipe', 'attack_type': 'normal', 'category': 'physical', 'att': '40', 'acc': '100', 'pp': '40', 'effect': '--'}\n",
            "{'lvl': '31', 'attack_name': 'Thrash', 'attack_type': 'normal', 'category': 'physical', 'att': '120', 'acc': '100', 'pp': '10', 'effect': '--'}\n",
            "{'lvl': '33', 'attack_name': 'Fling', 'attack_type': 'dark', 'category': 'physical', 'att': '??', 'acc': '100', 'pp': '10', 'effect': '--'}\n",
            "{'lvl': '37', 'attack_name': 'Bone Rush', 'attack_type': 'ground', 'category': 'physical', 'att': '25', 'acc': '90', 'pp': '10', 'effect': '--'}\n",
            "{'lvl': '41', 'attack_name': 'Endeavor', 'attack_type': 'normal', 'category': 'physical', 'att': '??', 'acc': '100', 'pp': '5', 'effect': '--'}\n",
            "{'lvl': '43', 'attack_name': 'Double-Edge', 'attack_type': 'normal', 'category': 'physical', 'att': '120', 'acc': '100', 'pp': '15', 'effect': '--'}\n",
            "{'lvl': '47', 'attack_name': 'Retaliate', 'attack_type': 'normal', 'category': 'physical', 'att': '70', 'acc': '100', 'pp': '5', 'effect': '--'}\n",
            "To pegando o 105 em https://serebii.net/pokedex-xy/105.shtml\n",
            "{'lvl': '—', 'attack_name': 'Growl', 'attack_type': 'normal', 'category': 'other', 'att': '--', 'acc': '100', 'pp': '40', 'effect': '--'}\n",
            "{'lvl': '—', 'attack_name': 'Tail Whip', 'attack_type': 'normal', 'category': 'other', 'att': '--', 'acc': '100', 'pp': '30', 'effect': '--'}\n",
            "{'lvl': '—', 'attack_name': 'Bone Club', 'attack_type': 'ground', 'category': 'physical', 'att': '65', 'acc': '85', 'pp': '20', 'effect': '10'}\n",
            "{'lvl': '—', 'attack_name': 'Headbutt', 'attack_type': 'normal', 'category': 'physical', 'att': '70', 'acc': '100', 'pp': '15', 'effect': '30'}\n",
            "{'lvl': '3', 'attack_name': 'Tail Whip', 'attack_type': 'normal', 'category': 'other', 'att': '--', 'acc': '100', 'pp': '30', 'effect': '--'}\n",
            "{'lvl': '7', 'attack_name': 'Bone Club', 'attack_type': 'ground', 'category': 'physical', 'att': '65', 'acc': '85', 'pp': '20', 'effect': '10'}\n",
            "{'lvl': '11', 'attack_name': 'Headbutt', 'attack_type': 'normal', 'category': 'physical', 'att': '70', 'acc': '100', 'pp': '15', 'effect': '30'}\n",
            "{'lvl': '13', 'attack_name': 'Leer', 'attack_type': 'normal', 'category': 'other', 'att': '--', 'acc': '100', 'pp': '30', 'effect': '100'}\n",
            "{'lvl': '17', 'attack_name': 'Focus Energy', 'attack_type': 'normal', 'category': 'other', 'att': '--', 'acc': '--', 'pp': '30', 'effect': '--'}\n",
            "{'lvl': '21', 'attack_name': 'Bonemerang', 'attack_type': 'ground', 'category': 'physical', 'att': '50', 'acc': '90', 'pp': '10', 'effect': '--'}\n",
            "{'lvl': '23', 'attack_name': 'Rage', 'attack_type': 'normal', 'category': 'physical', 'att': '20', 'acc': '100', 'pp': '20', 'effect': '--'}\n",
            "{'lvl': '27', 'attack_name': 'False Swipe', 'attack_type': 'normal', 'category': 'physical', 'att': '40', 'acc': '100', 'pp': '40', 'effect': '--'}\n",
            "{'lvl': '33', 'attack_name': 'Thrash', 'attack_type': 'normal', 'category': 'physical', 'att': '120', 'acc': '100', 'pp': '10', 'effect': '--'}\n",
            "{'lvl': '37', 'attack_name': 'Fling', 'attack_type': 'dark', 'category': 'physical', 'att': '??', 'acc': '100', 'pp': '10', 'effect': '--'}\n",
            "{'lvl': '43', 'attack_name': 'Bone Rush', 'attack_type': 'ground', 'category': 'physical', 'att': '25', 'acc': '90', 'pp': '10', 'effect': '--'}\n",
            "{'lvl': '49', 'attack_name': 'Endeavor', 'attack_type': 'normal', 'category': 'physical', 'att': '??', 'acc': '100', 'pp': '5', 'effect': '--'}\n",
            "{'lvl': '53', 'attack_name': 'Double-Edge', 'attack_type': 'normal', 'category': 'physical', 'att': '120', 'acc': '100', 'pp': '15', 'effect': '--'}\n",
            "{'lvl': '59', 'attack_name': 'Retaliate', 'attack_type': 'normal', 'category': 'physical', 'att': '70', 'acc': '100', 'pp': '5', 'effect': '--'}\n"
          ]
        }
      ]
    },
    {
      "cell_type": "code",
      "source": [
        "id = '258'\n",
        "url = f'https://serebii.net/pokedex-xy/{id}.shtml'\n",
        "data = requests.get(url)\n",
        "soup = bs4.BeautifulSoup(data.text, 'html.parser')\n",
        "table = soup.find_all(class_='dextable')\n",
        "#tab = table[15].find_all('tr')\n",
        "pokemon = find_pokemon(soup, id)\n",
        "\n",
        "#icon\n",
        "#no name\n",
        "#sprite\n",
        "#dex numbers\n",
        "#gender ratio\n",
        "#height e weight\n",
        "#abilities\n",
        "#egg_group\n",
        "#locations\n",
        "#flavor text as\n",
        "#damage taken\n",
        "#stats {tota e base stats}"
      ],
      "metadata": {
        "id": "VTZxvyLb44j2"
      },
      "execution_count": 28,
      "outputs": []
    },
    {
      "cell_type": "code",
      "source": [
        "for pokemon in pokedex_xy:\n",
        "  imprime_pokemon(pokedex_xy[pokemon])"
      ],
      "metadata": {
        "id": "RWMx4-pErXx5"
      },
      "execution_count": null,
      "outputs": []
    },
    {
      "cell_type": "code",
      "source": [
        "def moves(soup):\n",
        "  table = soup.findAll(class_='dextable')\n",
        "  arg = 'colspan=\"8\"'\n",
        "  moves = []\n",
        "  descript = []\n",
        "  index = 0\n",
        "  for i in table:\n",
        "    #print(i.find('tr'))\n",
        "    if ('Generation' in str(i.find('tr'))) or ('X &amp; Y Level Up' in str(i.find('tr'))):\n",
        "      #print(i)\n",
        "      for j in i.findAll('tr')[2:]:\n",
        "        if arg in str(j):\n",
        "          descript.append(j.text)\n",
        "\n",
        "        else:\n",
        "          #print('comeca', j.findAll('td')[4].text, 'termina')\n",
        "          attack = {\n",
        "                'lvl': j.findAll('td')[0].text,\n",
        "                'attack_name': j.findAll('td')[1].text,\n",
        "                'attack_type': str(j.find_all('img')[0]).split(\"/\",)[3].split(\".\")[0],\n",
        "                'category': str(j.find_all('img')[1]).split(\"/\",)[3].split(\".\")[0],\n",
        "                'att': j.find_all('td')[4].text,\n",
        "                'acc': j.find_all('td')[5].text,\n",
        "                'pp': j.find_all('td')[6].text,\n",
        "                'effect': j.find_all('td')[7].text,\n",
        "                }\n",
        "          moves.append(attack)\n",
        "          index+=1\n",
        "          print(attack)\n",
        "\n",
        "#for chave, valor in zip(moves.keys(), descript):\n",
        " #       moves[chave]['description'] = valor"
      ],
      "metadata": {
        "id": "GUCBW1r0frqf"
      },
      "execution_count": 32,
      "outputs": []
    },
    {
      "cell_type": "code",
      "source": [
        "table = soup.findAll(class_='dextable')\n",
        "arg = 'colspan=\"8\"'\n",
        "moves_xy = {}\n",
        "moves_oras = {}\n",
        "moves_tm = {}\n",
        "descript = []\n",
        "index = 0\n",
        "string = ['Generation VI Level Up', 'X &amp; Y Level Up']\n",
        "for i in table:\n",
        "  #print(i.find('tr'))\n",
        "\n",
        "  for s in string if s in str(i.find('tr')):\n",
        "    #print(i)\n",
        "    for j in i.findAll('tr')[2:]:\n",
        "      if arg in str(j):\n",
        "        descript.append(j.text)\n",
        "\n",
        "      else:\n",
        "        #print('comeca', j.findAll('td')[4].text, 'termina')\n",
        "        attack = {\n",
        "              'lvl': j.findAll('td')[0].text,\n",
        "              'attack_name': j.findAll('td')[1].text,\n",
        "              'attack_type': str(j.find_all('img')[0]).split(\"/\",)[3].split(\".\")[0],\n",
        "              'category': str(j.find_all('img')[1]).split(\"/\",)[3].split(\".\")[0],\n",
        "              'att': j.find_all('td')[4].text,\n",
        "              'acc': j.find_all('td')[5].text,\n",
        "              'pp': j.find_all('td')[6].text,\n",
        "              'effect': j.find_all('td')[7].text,\n",
        "              }\n",
        "        moves_xy.update({index:attack})\n",
        "        index+=1\n",
        "        print(attack)\n",
        "\n",
        "for chave, valor in zip(moves_xy.keys(), descript):\n",
        "        moves_xy[chave]['description'] = valor"
      ],
      "metadata": {
        "colab": {
          "base_uri": "https://localhost:8080/",
          "height": 131
        },
        "id": "qZ6neLcit1Aa",
        "outputId": "bdec6aa9-da56-4cfc-9363-c56428406301"
      },
      "execution_count": 38,
      "outputs": [
        {
          "output_type": "error",
          "ename": "SyntaxError",
          "evalue": "ignored",
          "traceback": [
            "\u001b[0;36m  File \u001b[0;32m\"<ipython-input-38-9d5b629e22fc>\"\u001b[0;36m, line \u001b[0;32m12\u001b[0m\n\u001b[0;31m    for s in string if s in str(i.find('tr')):\u001b[0m\n\u001b[0m                                             ^\u001b[0m\n\u001b[0;31mSyntaxError\u001b[0m\u001b[0;31m:\u001b[0m invalid syntax\n"
          ]
        }
      ]
    },
    {
      "cell_type": "code",
      "source": [
        "moves"
      ],
      "metadata": {
        "id": "4ZLkcln1xoFO"
      },
      "execution_count": null,
      "outputs": []
    },
    {
      "cell_type": "code",
      "source": [
        "def get_moves(type):\n",
        "  table = soup.findAll(class_='dextable')\n",
        "  arg = 'colspan=\"8\"'\n",
        "  moves = {}\n",
        "  descript = []\n",
        "  index = 0\n",
        "  for i in table:\n",
        "    #print(i.find('tr'))\n",
        "\n",
        "    if type in str(i.find('tr')):\n",
        "      #print(i)\n",
        "      for j in i.findAll('tr')[2:]:\n",
        "        if arg in str(j):\n",
        "          descript.append(j.text)\n",
        "\n",
        "        else:\n",
        "          #print('comeca', j.findAll('td')[4].text, 'termina')\n",
        "          attack = {\n",
        "                'lvl': j.findAll('td')[0].text,\n",
        "                'attack_name': j.findAll('td')[1].text,\n",
        "                'attack_type': str(j.find_all('img')[0]).split(\"/\",)[3].split(\".\")[0],\n",
        "                'category': str(j.find_all('img')[1]).split(\"/\",)[3].split(\".\")[0],\n",
        "                'att': j.find_all('td')[4].text,\n",
        "                'acc': j.find_all('td')[5].text,\n",
        "                'pp': j.find_all('td')[6].text,\n",
        "                'effect': j.find_all('td')[7].text,\n",
        "                }\n",
        "          moves.update({index:attack})\n",
        "          index+=1\n",
        "          #print(attack)\n",
        "\n",
        "        for chave, valor in zip(moves.keys(), descript):\n",
        "                moves[chave]['description'] = valor\n",
        "        return moves\n",
        "      else:\n",
        "        return None"
      ],
      "metadata": {
        "id": "Vm11IR_TtNi3"
      },
      "execution_count": null,
      "outputs": []
    },
    {
      "cell_type": "code",
      "source": [
        "def get_moves_dex(soup):\n",
        "\n",
        "\n",
        "  moves_tm = get_moves('TM &amp; HM Attacks')\n",
        "\n",
        "    moves_xy = get_moves('X &amp; Y Level Up')\n",
        "    moves_oras = get_moves('ΩRαS Level Up')\n",
        "  except:\n",
        "    moves_xy = get_moves('Generation VI Level Up')\n",
        "\n",
        "  moves = {\n",
        "    'xy': moves_xy,\n",
        "    'oras': moves_oras,\n",
        "    'tm/hm': moves_tm\n",
        "  }\n",
        "\n",
        "  return moves"
      ],
      "metadata": {
        "id": "0c2hjjI3wUlU"
      },
      "execution_count": null,
      "outputs": []
    },
    {
      "cell_type": "code",
      "source": [
        "eita = get_moves_dex(soup)\n",
        "eita"
      ],
      "metadata": {
        "id": "96uixMrYy9Qo"
      },
      "execution_count": null,
      "outputs": []
    },
    {
      "cell_type": "code",
      "source": [
        "table = soup.findAll(class_='dextable')\n",
        "arg = 'colspan=\"8\"'\n",
        "moves = []\n",
        "descript = []\n",
        "index = 0\n",
        "for i in table:\n",
        "  if 'Stats' in str(i.find('tr')):\n",
        "    #print(i)\n",
        "    for j in i.findAll('tr')[2:]:\n",
        "      print(j.text)\n",
        "        #print(attack)\n",
        "\n",
        "#for chave, valor in zip(moves.keys(), descript):\n",
        " #       moves[chave]['description'] = valor"
      ],
      "metadata": {
        "id": "_KuSMrgN58TT"
      },
      "execution_count": null,
      "outputs": []
    },
    {
      "cell_type": "code",
      "source": [
        "moves"
      ],
      "metadata": {
        "id": "4s0gaCm49fp8"
      },
      "execution_count": null,
      "outputs": []
    },
    {
      "cell_type": "code",
      "source": [
        "def find_egg_group(soup):\n",
        "    tag = soup.find_all('td', class_='fooinfo')\n",
        "    egg = tag[15].find_all('tr')\n",
        "    groups = []\n",
        "    for i in egg:\n",
        "        groups.append(i.find('option').text)\n",
        "    list_keys = []\n",
        "    for i in range(len(groups)):\n",
        "      list_keys.append(f\"egg_group_{i+1}\")\n",
        "    egg_group = dict(zip(list_keys, groups))\n",
        "    return egg_group"
      ],
      "metadata": {
        "id": "WvMP-Iv9mBsf"
      },
      "execution_count": null,
      "outputs": []
    },
    {
      "cell_type": "code",
      "source": [],
      "metadata": {
        "id": "Pj1_h-GZfrM8"
      },
      "execution_count": null,
      "outputs": []
    },
    {
      "cell_type": "code",
      "source": [
        "tag = soup.find_all('td', class_='fooinfo')\n",
        "egg = tag[15].find_all('tr')\n",
        "for i in egg:\n",
        "  print(i.find('option').text)"
      ],
      "metadata": {
        "id": "ddCDKOSdlcWX"
      },
      "execution_count": null,
      "outputs": []
    },
    {
      "cell_type": "code",
      "source": [
        "tag[15]"
      ],
      "metadata": {
        "id": "zP5AZA7bcygv"
      },
      "execution_count": null,
      "outputs": []
    },
    {
      "cell_type": "code",
      "source": [
        "table = soup.find(class_=\"dextable\")\n",
        "for i in table.next_siblings:\n",
        "  #if 'Generation' in i.find_next('td'):\n",
        "  #print(i.find('td'))\n",
        "  a = i.find('tr')\n",
        "  arg = 'colspan=\"8\"'\n",
        "  if 'Egg Groups' in str(a):\n",
        "    print(i.find('tr'))\n",
        "\n",
        "    for k in i.find_all('tr'):\n",
        "      print(k.find('option'))"
      ],
      "metadata": {
        "id": "UlFpVssaZ6CN"
      },
      "execution_count": null,
      "outputs": []
    },
    {
      "cell_type": "code",
      "source": [],
      "metadata": {
        "id": "hgboEtNSZNq6"
      },
      "execution_count": null,
      "outputs": []
    }
  ]
}